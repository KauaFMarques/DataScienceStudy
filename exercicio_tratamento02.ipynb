{
 "cells": [
  {
   "cell_type": "code",
   "execution_count": 2,
   "id": "e063aabc-2df0-43e9-b604-ac23728994a8",
   "metadata": {},
   "outputs": [],
   "source": [
    "#Jannayna Domingues - Exercicio tratamento dados - Paciente"
   ]
  },
  {
   "cell_type": "code",
   "execution_count": 3,
   "id": "70d8fd9f-ec6a-4ec1-9853-51aaa65177fd",
   "metadata": {},
   "outputs": [],
   "source": [
    "import pandas as pd\n",
    "import seaborn as srn\n",
    "import statistics as sts"
   ]
  },
  {
   "cell_type": "code",
   "execution_count": 4,
   "id": "3e3ce28a-511d-4a05-a02a-743e112d1c9a",
   "metadata": {},
   "outputs": [
    {
     "data": {
      "text/html": [
       "<div>\n",
       "<style scoped>\n",
       "    .dataframe tbody tr th:only-of-type {\n",
       "        vertical-align: middle;\n",
       "    }\n",
       "\n",
       "    .dataframe tbody tr th {\n",
       "        vertical-align: top;\n",
       "    }\n",
       "\n",
       "    .dataframe thead th {\n",
       "        text-align: right;\n",
       "    }\n",
       "</style>\n",
       "<table border=\"1\" class=\"dataframe\">\n",
       "  <thead>\n",
       "    <tr style=\"text-align: right;\">\n",
       "      <th></th>\n",
       "      <th>Unnamed: 0</th>\n",
       "      <th>ID</th>\n",
       "      <th>Idade</th>\n",
       "      <th>Peso</th>\n",
       "      <th>Sexo</th>\n",
       "      <th>Manchas</th>\n",
       "      <th>Temperatura</th>\n",
       "      <th>Diagnóstico</th>\n",
       "    </tr>\n",
       "  </thead>\n",
       "  <tbody>\n",
       "    <tr>\n",
       "      <th>0</th>\n",
       "      <td>0</td>\n",
       "      <td>0</td>\n",
       "      <td>62.0</td>\n",
       "      <td>115.0</td>\n",
       "      <td>M</td>\n",
       "      <td>Concentradas</td>\n",
       "      <td>47.0</td>\n",
       "      <td>Doente</td>\n",
       "    </tr>\n",
       "    <tr>\n",
       "      <th>1</th>\n",
       "      <td>1</td>\n",
       "      <td>1</td>\n",
       "      <td>65.0</td>\n",
       "      <td>59.0</td>\n",
       "      <td>Homem</td>\n",
       "      <td>NaN</td>\n",
       "      <td>38.0</td>\n",
       "      <td>Ss</td>\n",
       "    </tr>\n",
       "    <tr>\n",
       "      <th>2</th>\n",
       "      <td>3</td>\n",
       "      <td>2</td>\n",
       "      <td>NaN</td>\n",
       "      <td>107.0</td>\n",
       "      <td>NaN</td>\n",
       "      <td>Espalhadas</td>\n",
       "      <td>39.0</td>\n",
       "      <td>D</td>\n",
       "    </tr>\n",
       "    <tr>\n",
       "      <th>3</th>\n",
       "      <td>4</td>\n",
       "      <td>3</td>\n",
       "      <td>45.0</td>\n",
       "      <td>82.0</td>\n",
       "      <td>Masculino</td>\n",
       "      <td>Espalhadas</td>\n",
       "      <td>40.0</td>\n",
       "      <td>Doente</td>\n",
       "    </tr>\n",
       "    <tr>\n",
       "      <th>4</th>\n",
       "      <td>4</td>\n",
       "      <td>3</td>\n",
       "      <td>45.0</td>\n",
       "      <td>82.0</td>\n",
       "      <td>H</td>\n",
       "      <td>Espalhadas</td>\n",
       "      <td>40.0</td>\n",
       "      <td>Doente</td>\n",
       "    </tr>\n",
       "  </tbody>\n",
       "</table>\n",
       "</div>"
      ],
      "text/plain": [
       "   Unnamed: 0  ID  Idade   Peso       Sexo       Manchas  Temperatura  \\\n",
       "0           0   0   62.0  115.0          M  Concentradas         47.0   \n",
       "1           1   1   65.0   59.0      Homem           NaN         38.0   \n",
       "2           3   2    NaN  107.0        NaN    Espalhadas         39.0   \n",
       "3           4   3   45.0   82.0  Masculino    Espalhadas         40.0   \n",
       "4           4   3   45.0   82.0          H    Espalhadas         40.0   \n",
       "\n",
       "  Diagnóstico  \n",
       "0      Doente  \n",
       "1          Ss  \n",
       "2           D  \n",
       "3      Doente  \n",
       "4      Doente  "
      ]
     },
     "execution_count": 4,
     "metadata": {},
     "output_type": "execute_result"
    }
   ],
   "source": [
    "#Carregar os dados\n",
    "dataset = pd.read_csv(\"dados_pacientes.csv\", sep =\",\")\n",
    "#visulizar os dados\n",
    "dataset.head()\n"
   ]
  },
  {
   "cell_type": "code",
   "execution_count": 7,
   "id": "f39e86a0-7c3f-4fce-9047-0607ef60ef14",
   "metadata": {},
   "outputs": [
    {
     "data": {
      "text/plain": [
       "(59, 8)"
      ]
     },
     "execution_count": 7,
     "metadata": {},
     "output_type": "execute_result"
    }
   ],
   "source": [
    "dataset.shape"
   ]
  },
  {
   "cell_type": "code",
   "execution_count": 9,
   "id": "ce2d6768-7e52-41e9-92a9-2f9acd8d4853",
   "metadata": {},
   "outputs": [
    {
     "data": {
      "text/plain": [
       "Unnamed: 0      0\n",
       "ID              0\n",
       "Idade           6\n",
       "Peso            5\n",
       "Sexo            4\n",
       "Manchas        11\n",
       "Temperatura    10\n",
       "Diagnóstico     9\n",
       "dtype: int64"
      ]
     },
     "execution_count": 9,
     "metadata": {},
     "output_type": "execute_result"
    }
   ],
   "source": [
    "#Verificar se há valores ausentes NaN\n",
    "dataset.isnull().sum()"
   ]
  },
  {
   "cell_type": "code",
   "execution_count": 11,
   "id": "992eb8ce-10b9-4024-801f-958ee35e16d7",
   "metadata": {},
   "outputs": [
    {
     "data": {
      "text/html": [
       "<div>\n",
       "<style scoped>\n",
       "    .dataframe tbody tr th:only-of-type {\n",
       "        vertical-align: middle;\n",
       "    }\n",
       "\n",
       "    .dataframe tbody tr th {\n",
       "        vertical-align: top;\n",
       "    }\n",
       "\n",
       "    .dataframe thead th {\n",
       "        text-align: right;\n",
       "    }\n",
       "</style>\n",
       "<table border=\"1\" class=\"dataframe\">\n",
       "  <thead>\n",
       "    <tr style=\"text-align: right;\">\n",
       "      <th></th>\n",
       "      <th>Unnamed: 0</th>\n",
       "      <th>ID</th>\n",
       "      <th>Idade</th>\n",
       "      <th>Peso</th>\n",
       "      <th>Sexo</th>\n",
       "      <th>Manchas</th>\n",
       "      <th>Temperatura</th>\n",
       "      <th>Diagnóstico</th>\n",
       "    </tr>\n",
       "  </thead>\n",
       "  <tbody>\n",
       "    <tr>\n",
       "      <th>3</th>\n",
       "      <td>4</td>\n",
       "      <td>3</td>\n",
       "      <td>45.0</td>\n",
       "      <td>82.0</td>\n",
       "      <td>Masculino</td>\n",
       "      <td>Espalhadas</td>\n",
       "      <td>40.0</td>\n",
       "      <td>Doente</td>\n",
       "    </tr>\n",
       "    <tr>\n",
       "      <th>4</th>\n",
       "      <td>4</td>\n",
       "      <td>3</td>\n",
       "      <td>45.0</td>\n",
       "      <td>82.0</td>\n",
       "      <td>H</td>\n",
       "      <td>Espalhadas</td>\n",
       "      <td>40.0</td>\n",
       "      <td>Doente</td>\n",
       "    </tr>\n",
       "  </tbody>\n",
       "</table>\n",
       "</div>"
      ],
      "text/plain": [
       "   Unnamed: 0  ID  Idade  Peso       Sexo     Manchas  Temperatura Diagnóstico\n",
       "3           4   3   45.0  82.0  Masculino  Espalhadas         40.0      Doente\n",
       "4           4   3   45.0  82.0          H  Espalhadas         40.0      Doente"
      ]
     },
     "execution_count": 11,
     "metadata": {},
     "output_type": "execute_result"
    }
   ],
   "source": [
    "#Verificar se há objetos repetidos no dataset e eliminar\n",
    "dataset[dataset.duplicated(['ID'],keep=False)]"
   ]
  },
  {
   "cell_type": "code",
   "execution_count": 11,
   "id": "ff309c6b-f8d9-4497-a2e6-45f03d6eee10",
   "metadata": {},
   "outputs": [
    {
     "data": {
      "text/html": [
       "<div>\n",
       "<style scoped>\n",
       "    .dataframe tbody tr th:only-of-type {\n",
       "        vertical-align: middle;\n",
       "    }\n",
       "\n",
       "    .dataframe tbody tr th {\n",
       "        vertical-align: top;\n",
       "    }\n",
       "\n",
       "    .dataframe thead th {\n",
       "        text-align: right;\n",
       "    }\n",
       "</style>\n",
       "<table border=\"1\" class=\"dataframe\">\n",
       "  <thead>\n",
       "    <tr style=\"text-align: right;\">\n",
       "      <th></th>\n",
       "      <th>Unnamed: 0</th>\n",
       "      <th>ID</th>\n",
       "      <th>Idade</th>\n",
       "      <th>Peso</th>\n",
       "      <th>Sexo</th>\n",
       "      <th>Manchas</th>\n",
       "      <th>Temperatura</th>\n",
       "      <th>Diagnóstico</th>\n",
       "    </tr>\n",
       "  </thead>\n",
       "  <tbody>\n",
       "  </tbody>\n",
       "</table>\n",
       "</div>"
      ],
      "text/plain": [
       "Empty DataFrame\n",
       "Columns: [Unnamed: 0, ID, Idade, Peso, Sexo, Manchas, Temperatura, Diagnóstico]\n",
       "Index: []"
      ]
     },
     "execution_count": 11,
     "metadata": {},
     "output_type": "execute_result"
    }
   ],
   "source": [
    "#Excluir o duplicado pelo ID\n",
    "dataset.drop_duplicates(subset=\"ID\", keep='first',inplace=True)\n",
    "#buscamos duplicados \n",
    "dataset[dataset.duplicated(['ID'],keep=False)]"
   ]
  },
  {
   "cell_type": "code",
   "execution_count": 13,
   "id": "fb7ddebf-c40d-4d9a-b1a6-cf850d0f9be5",
   "metadata": {},
   "outputs": [
    {
     "data": {
      "text/plain": [
       "Idade\n",
       "18.0    2\n",
       "19.0    1\n",
       "21.0    1\n",
       "23.0    1\n",
       "24.0    1\n",
       "27.0    1\n",
       "31.0    1\n",
       "33.0    1\n",
       "34.0    1\n",
       "35.0    2\n",
       "36.0    1\n",
       "37.0    2\n",
       "38.0    1\n",
       "39.0    1\n",
       "41.0    1\n",
       "42.0    4\n",
       "43.0    1\n",
       "45.0    8\n",
       "47.0    1\n",
       "50.0    1\n",
       "54.0    1\n",
       "55.0    1\n",
       "56.0    1\n",
       "57.0    3\n",
       "62.0    2\n",
       "64.0    2\n",
       "65.0    2\n",
       "67.0    1\n",
       "68.0    1\n",
       "69.0    2\n",
       "71.0    1\n",
       "76.0    1\n",
       "77.0    1\n",
       "dtype: int64"
      ]
     },
     "execution_count": 13,
     "metadata": {},
     "output_type": "execute_result"
    }
   ],
   "source": [
    "#Tratamneto do atributo IDADE\n",
    "agrupado = dataset.groupby(['Idade']).size()\n",
    "agrupado"
   ]
  },
  {
   "cell_type": "code",
   "execution_count": 15,
   "id": "62f7850c-2cf8-41b9-8b1d-93a8e26699f0",
   "metadata": {},
   "outputs": [
    {
     "data": {
      "text/plain": [
       "count    52.000000\n",
       "mean     46.711538\n",
       "std      15.659786\n",
       "min      18.000000\n",
       "25%      36.750000\n",
       "50%      45.000000\n",
       "75%      58.250000\n",
       "max      77.000000\n",
       "Name: Idade, dtype: float64"
      ]
     },
     "execution_count": 15,
     "metadata": {},
     "output_type": "execute_result"
    }
   ],
   "source": [
    "#Analise numérica do atributo IDADE\n",
    "dataset['Idade'].describe()"
   ]
  },
  {
   "cell_type": "code",
   "execution_count": 17,
   "id": "e9036cab-97bc-4ca6-8801-526d98d61b8e",
   "metadata": {},
   "outputs": [],
   "source": [
    "#srn.boxplot(dataset['Idade']).set_title('Idade')"
   ]
  },
  {
   "cell_type": "code",
   "execution_count": 19,
   "id": "b3d63636-a352-4217-af6f-81eb10b43a26",
   "metadata": {},
   "outputs": [
    {
     "data": {
      "text/plain": [
       "45.0"
      ]
     },
     "execution_count": 19,
     "metadata": {},
     "output_type": "execute_result"
    }
   ],
   "source": [
    "#Calculo da Mediana do atributo IDADE\n",
    "mediana = sts.median(dataset['Idade'])\n",
    "mediana"
   ]
  },
  {
   "cell_type": "code",
   "execution_count": 21,
   "id": "25939c65-5142-4c35-b86b-efc792d0218c",
   "metadata": {},
   "outputs": [
    {
     "data": {
      "text/plain": [
       "Series([], Name: Idade, dtype: float64)"
      ]
     },
     "execution_count": 21,
     "metadata": {},
     "output_type": "execute_result"
    }
   ],
   "source": [
    "#Varificando os valores fora do intevalo válido\n",
    "dataset.loc[(dataset['Idade'] <  0 )  | ( dataset['Idade'] > 100), 'Idade'] "
   ]
  },
  {
   "cell_type": "code",
   "execution_count": 23,
   "id": "5ae9ed2c-a16b-4427-848e-ba55682f8f1b",
   "metadata": {},
   "outputs": [],
   "source": [
    "#Elimindando valores inválidos e add a mediana\n",
    "dataset.loc[(dataset['Idade'] <  0 )  | ( dataset['Idade'] > 100), 'Idade'] = mediana"
   ]
  },
  {
   "cell_type": "code",
   "execution_count": 25,
   "id": "ff6df1d3-b6af-4995-a1cc-4b3b5c98ff94",
   "metadata": {},
   "outputs": [
    {
     "data": {
      "text/plain": [
       "Unnamed: 0      0\n",
       "ID              0\n",
       "Idade           0\n",
       "Peso            5\n",
       "Sexo            4\n",
       "Manchas        11\n",
       "Temperatura    10\n",
       "Diagnóstico     9\n",
       "dtype: int64"
      ]
     },
     "execution_count": 25,
     "metadata": {},
     "output_type": "execute_result"
    }
   ],
   "source": [
    "#Preenchendo os valores ausentes em IDADE com a mediana\n",
    "dataset['Idade'].fillna(mediana, inplace=True)\n",
    "dataset.isnull().sum()"
   ]
  },
  {
   "cell_type": "code",
   "execution_count": 27,
   "id": "0076fb9f-c732-4228-b74c-7dcb14b959ce",
   "metadata": {},
   "outputs": [
    {
     "data": {
      "text/plain": [
       "Peso\n",
       "45.0     4\n",
       "50.0     2\n",
       "51.0     1\n",
       "53.0     1\n",
       "54.0     1\n",
       "55.0     1\n",
       "56.0     1\n",
       "59.0     2\n",
       "62.0     1\n",
       "63.0     1\n",
       "65.0     1\n",
       "70.0     1\n",
       "73.0     2\n",
       "78.0     1\n",
       "81.0     1\n",
       "82.0     2\n",
       "84.0     1\n",
       "85.0     4\n",
       "86.0     1\n",
       "88.0     1\n",
       "91.0     3\n",
       "92.0     1\n",
       "96.0     1\n",
       "99.0     1\n",
       "102.0    1\n",
       "103.0    2\n",
       "107.0    4\n",
       "108.0    1\n",
       "114.0    1\n",
       "115.0    2\n",
       "118.0    2\n",
       "119.0    1\n",
       "270.0    1\n",
       "320.0    1\n",
       "475.0    1\n",
       "dtype: int64"
      ]
     },
     "execution_count": 27,
     "metadata": {},
     "output_type": "execute_result"
    }
   ],
   "source": [
    "#Tratamento do atributo PESO\n",
    "agrupado = dataset.groupby(['Peso']).size()\n",
    "agrupado"
   ]
  },
  {
   "cell_type": "code",
   "execution_count": 29,
   "id": "4b840e3e-a094-47e1-9b60-479e2a6e8bd3",
   "metadata": {},
   "outputs": [
    {
     "data": {
      "text/plain": [
       "count     53.000000\n",
       "mean      97.396226\n",
       "std       70.759707\n",
       "min       45.000000\n",
       "25%       62.000000\n",
       "50%       85.000000\n",
       "75%      107.000000\n",
       "max      475.000000\n",
       "Name: Peso, dtype: float64"
      ]
     },
     "execution_count": 29,
     "metadata": {},
     "output_type": "execute_result"
    }
   ],
   "source": [
    "#Analise numérica do atributo PESO\n",
    "dataset['Peso'].describe()"
   ]
  },
  {
   "cell_type": "code",
   "execution_count": 13,
   "id": "798af53e-8cdb-4cf8-9cbc-066a7c157ad9",
   "metadata": {},
   "outputs": [
    {
     "data": {
      "text/plain": [
       "Text(0.5, 1.0, 'Peso')"
      ]
     },
     "execution_count": 13,
     "metadata": {},
     "output_type": "execute_result"
    },
    {
     "data": {
      "image/png": "[encoded data removed]",
      "text/plain": [
       "<Figure size 640x480 with 1 Axes>"
      ]
     },
     "metadata": {},
     "output_type": "display_data"
    }
   ],
   "source": [
    "srn.boxplot(dataset['Peso']).set_title('Peso')"
   ]
  },
  {
   "cell_type": "code",
   "execution_count": 33,
   "id": "f2c9ed08-8cc2-42b7-b7ed-adc0f44e008b",
   "metadata": {},
   "outputs": [
    {
     "data": {
      "text/plain": [
       "91.5"
      ]
     },
     "execution_count": 33,
     "metadata": {},
     "output_type": "execute_result"
    }
   ],
   "source": [
    "#Calcular a mediana do atributo PESO\n",
    "mediana =  sts.median(dataset['Peso'])\n",
    "mediana"
   ]
  },
  {
   "cell_type": "code",
   "execution_count": 35,
   "id": "c87047e9-af91-490e-8e42-61fcc7214fc1",
   "metadata": {},
   "outputs": [
    {
     "data": {
      "text/plain": [
       "Unnamed: 0      0\n",
       "ID              0\n",
       "Idade           0\n",
       "Peso            0\n",
       "Sexo            4\n",
       "Manchas        11\n",
       "Temperatura    10\n",
       "Diagnóstico     9\n",
       "dtype: int64"
      ]
     },
     "execution_count": 35,
     "metadata": {},
     "output_type": "execute_result"
    }
   ],
   "source": [
    "#Preenchendo os valores ausentes em PESO com a mediana\n",
    "dataset['Peso'].fillna(mediana, inplace=True)\n",
    "dataset.isnull().sum()"
   ]
  },
  {
   "cell_type": "code",
   "execution_count": 37,
   "id": "168b72f5-bb7f-46b0-a906-bd659e84e2b7",
   "metadata": {},
   "outputs": [
    {
     "data": {
      "text/plain": [
       "19    270.0\n",
       "30    320.0\n",
       "51    475.0\n",
       "Name: Peso, dtype: float64"
      ]
     },
     "execution_count": 37,
     "metadata": {},
     "output_type": "execute_result"
    }
   ],
   "source": [
    "#Verificar valores fora do intervalo de atribuir a \n",
    "dataset.loc[(dataset['Peso'] > 200 ) ,'Peso'] "
   ]
  },
  {
   "cell_type": "code",
   "execution_count": 39,
   "id": "128ba476-6fbe-49b1-9ed9-21f987de2400",
   "metadata": {},
   "outputs": [],
   "source": [
    "dataset.loc[(dataset['Peso'] > 200 ) ,'Peso'] = mediana"
   ]
  },
  {
   "cell_type": "code",
   "execution_count": 41,
   "id": "a7b13815-bedf-4283-8441-d1c4f8e8f34e",
   "metadata": {},
   "outputs": [
    {
     "data": {
      "text/plain": [
       "Sexo\n",
       "F             1\n",
       "Feminino     28\n",
       "Homem         1\n",
       "M             1\n",
       "Masculino    21\n",
       "Menina        1\n",
       "Mulher        1\n",
       "dtype: int64"
      ]
     },
     "execution_count": 41,
     "metadata": {},
     "output_type": "execute_result"
    }
   ],
   "source": [
    "#Tratamento do atributo SEXO\n",
    "agrupado = dataset.groupby(['Sexo']).size()\n",
    "agrupado"
   ]
  },
  {
   "cell_type": "code",
   "execution_count": 43,
   "id": "27cf0285-1da5-4f61-8f1d-322c063837cb",
   "metadata": {},
   "outputs": [
    {
     "data": {
      "text/plain": [
       "count           54\n",
       "unique           7\n",
       "top       Feminino\n",
       "freq            28\n",
       "Name: Sexo, dtype: object"
      ]
     },
     "execution_count": 43,
     "metadata": {},
     "output_type": "execute_result"
    }
   ],
   "source": [
    "dataset['Sexo'].describe()"
   ]
  },
  {
   "cell_type": "code",
   "execution_count": 45,
   "id": "fe48ea92-6453-45dc-9d2a-575faf8ab0bf",
   "metadata": {},
   "outputs": [
    {
     "data": {
      "text/plain": [
       "Sexo\n",
       "Feminino     31\n",
       "Masculino    23\n",
       "dtype: int64"
      ]
     },
     "execution_count": 45,
     "metadata": {},
     "output_type": "execute_result"
    }
   ],
   "source": [
    "#Tratamento do atributo SEXO - F, Menina, Mulher, \n",
    "dataset.loc[dataset['Sexo'].isin( ['F','Menina','Mulher']), 'Sexo'] = \"Feminino\"\n",
    "dataset.loc[dataset['Sexo'].isin( ['H','M','Menino','Homem']), 'Sexo'] = \"Masculino\"\n",
    "#visualiza o resultado\n",
    "agrupado = dataset.groupby(['Sexo']).size()\n",
    "agrupado"
   ]
  },
  {
   "cell_type": "code",
   "execution_count": 47,
   "id": "7e8d605f-fdbc-40ca-9ce5-16a2cc465b02",
   "metadata": {},
   "outputs": [
    {
     "data": {
      "text/plain": [
       "Unnamed: 0      0\n",
       "ID              0\n",
       "Idade           0\n",
       "Peso            0\n",
       "Sexo            0\n",
       "Manchas        11\n",
       "Temperatura    10\n",
       "Diagnóstico     9\n",
       "dtype: int64"
      ]
     },
     "execution_count": 47,
     "metadata": {},
     "output_type": "execute_result"
    }
   ],
   "source": [
    "#Verificar valores ausentes NaN no atributo SEXO\n",
    "dataset['Sexo'].fillna('Feminino', inplace=True)\n",
    "dataset.isnull().sum()"
   ]
  },
  {
   "cell_type": "code",
   "execution_count": 49,
   "id": "42c1aba2-155c-4d2c-b893-6287773ddbab",
   "metadata": {},
   "outputs": [
    {
     "data": {
      "text/plain": [
       "Manchas\n",
       "Ausentes         7\n",
       "Concentradas     9\n",
       "Espalhadas      31\n",
       "dtype: int64"
      ]
     },
     "execution_count": 49,
     "metadata": {},
     "output_type": "execute_result"
    }
   ],
   "source": [
    "#Tratamento do atributo MANCHAS\n",
    "agrupado = dataset.groupby(['Manchas']).size()\n",
    "agrupado"
   ]
  },
  {
   "cell_type": "code",
   "execution_count": 51,
   "id": "8592a9b0-d77b-4f91-9c7b-ea74dbfea68e",
   "metadata": {},
   "outputs": [
    {
     "data": {
      "text/plain": [
       "count             47\n",
       "unique             3\n",
       "top       Espalhadas\n",
       "freq              31\n",
       "Name: Manchas, dtype: object"
      ]
     },
     "execution_count": 51,
     "metadata": {},
     "output_type": "execute_result"
    }
   ],
   "source": [
    "dataset['Manchas'].describe()"
   ]
  },
  {
   "cell_type": "code",
   "execution_count": 53,
   "id": "ebeaa251-9c9c-4a57-9e52-240b0367952f",
   "metadata": {},
   "outputs": [
    {
     "data": {
      "text/plain": [
       "Unnamed: 0      0\n",
       "ID              0\n",
       "Idade           0\n",
       "Peso            0\n",
       "Sexo            0\n",
       "Manchas         0\n",
       "Temperatura    10\n",
       "Diagnóstico     9\n",
       "dtype: int64"
      ]
     },
     "execution_count": 53,
     "metadata": {},
     "output_type": "execute_result"
    }
   ],
   "source": [
    "#Verificar valores ausentes NaN no atributo MANCHAS\n",
    "dataset['Manchas'].fillna('Espalhadas', inplace=True)\n",
    "dataset.isnull().sum()"
   ]
  },
  {
   "cell_type": "code",
   "execution_count": 55,
   "id": "4ee28568-45ab-403a-b555-b17851f3d9f7",
   "metadata": {},
   "outputs": [
    {
     "data": {
      "text/plain": [
       "Temperatura\n",
       "37.0     7\n",
       "38.0     9\n",
       "39.0    21\n",
       "40.0     8\n",
       "43.0     1\n",
       "47.0     1\n",
       "52.0     1\n",
       "dtype: int64"
      ]
     },
     "execution_count": 55,
     "metadata": {},
     "output_type": "execute_result"
    }
   ],
   "source": [
    "#Tratamento do atributo TEMPERATURA\n",
    "agrupado = dataset.groupby(['Temperatura']).size()\n",
    "agrupado"
   ]
  },
  {
   "cell_type": "code",
   "execution_count": 57,
   "id": "9f0e9d7c-0942-49d2-8d53-dc60d966a0cb",
   "metadata": {},
   "outputs": [
    {
     "data": {
      "text/plain": [
       "count    48.000000\n",
       "mean     39.208333\n",
       "std       2.492186\n",
       "min      37.000000\n",
       "25%      38.000000\n",
       "50%      39.000000\n",
       "75%      39.000000\n",
       "max      52.000000\n",
       "Name: Temperatura, dtype: float64"
      ]
     },
     "execution_count": 57,
     "metadata": {},
     "output_type": "execute_result"
    }
   ],
   "source": [
    "dataset['Temperatura'].describe()"
   ]
  },
  {
   "cell_type": "code",
   "execution_count": 59,
   "id": "56366aaf-0225-47fb-9a9c-f0fd71a0b4d3",
   "metadata": {},
   "outputs": [],
   "source": [
    "#srn.boxplot(dataset['Temperatura']).set_title('Temperatura')"
   ]
  },
  {
   "cell_type": "code",
   "execution_count": 61,
   "id": "3fe37c9e-6c42-484e-8d71-1d70ebcec35f",
   "metadata": {},
   "outputs": [
    {
     "data": {
      "text/plain": [
       "0    47.0\n",
       "5    52.0\n",
       "9    43.0\n",
       "Name: Temperatura, dtype: float64"
      ]
     },
     "execution_count": 61,
     "metadata": {},
     "output_type": "execute_result"
    }
   ],
   "source": [
    "#Eliminar valores fora do intervalo\n",
    "dataset.loc[(dataset['Temperatura'] <  36 )  | ( dataset['Temperatura']> 40), 'Temperatura'] "
   ]
  },
  {
   "cell_type": "code",
   "execution_count": 63,
   "id": "189b92af-ac7e-4dd9-a371-409599049c4f",
   "metadata": {},
   "outputs": [
    {
     "data": {
      "text/plain": [
       "39.0"
      ]
     },
     "execution_count": 63,
     "metadata": {},
     "output_type": "execute_result"
    }
   ],
   "source": [
    "mediana =  sts.median(dataset['Temperatura'])\n",
    "mediana"
   ]
  },
  {
   "cell_type": "code",
   "execution_count": 65,
   "id": "f4013684-2616-45aa-b5c5-6b8cb761cf2c",
   "metadata": {},
   "outputs": [
    {
     "data": {
      "text/plain": [
       "Series([], Name: Temperatura, dtype: float64)"
      ]
     },
     "execution_count": 65,
     "metadata": {},
     "output_type": "execute_result"
    }
   ],
   "source": [
    "#Substituindo os valores fora do padrão, pela Mediana\n",
    "dataset.loc[(dataset['Temperatura'] <  36 )  | ( dataset['Temperatura']> 40), 'Temperatura'] = mediana\n",
    "dataset.loc[(dataset['Temperatura'] <  36 )  | ( dataset['Temperatura']> 40), 'Temperatura'] "
   ]
  },
  {
   "cell_type": "code",
   "execution_count": 67,
   "id": "a5ee4ab3-79c5-4ec6-812a-e490a8729eef",
   "metadata": {},
   "outputs": [
    {
     "data": {
      "text/plain": [
       "Unnamed: 0     0\n",
       "ID             0\n",
       "Idade          0\n",
       "Peso           0\n",
       "Sexo           0\n",
       "Manchas        0\n",
       "Temperatura    0\n",
       "Diagnóstico    9\n",
       "dtype: int64"
      ]
     },
     "execution_count": 67,
     "metadata": {},
     "output_type": "execute_result"
    }
   ],
   "source": [
    "#Verificando valores ausentes e substituindo pela mediana\n",
    "dataset['Temperatura'].fillna(mediana, inplace=True)\n",
    "dataset.isnull().sum()"
   ]
  },
  {
   "cell_type": "code",
   "execution_count": 69,
   "id": "9fdb45a4-5697-45ba-85ff-407a93b613b6",
   "metadata": {},
   "outputs": [
    {
     "data": {
      "text/plain": [
       "count    58.000000\n",
       "mean     38.741379\n",
       "std       0.849362\n",
       "min      37.000000\n",
       "25%      38.000000\n",
       "50%      39.000000\n",
       "75%      39.000000\n",
       "max      40.000000\n",
       "Name: Temperatura, dtype: float64"
      ]
     },
     "execution_count": 69,
     "metadata": {},
     "output_type": "execute_result"
    }
   ],
   "source": [
    "dataset['Temperatura'].describe()"
   ]
  },
  {
   "cell_type": "code",
   "execution_count": 71,
   "id": "887769ee-f1df-4061-9e91-acc3f6d64ee9",
   "metadata": {},
   "outputs": [
    {
     "data": {
      "text/plain": [
       "Diagnóstico\n",
       "D            2\n",
       "DD           1\n",
       "Dd           1\n",
       "Doente      23\n",
       "S            1\n",
       "Saudável    20\n",
       "Ss           1\n",
       "dtype: int64"
      ]
     },
     "execution_count": 71,
     "metadata": {},
     "output_type": "execute_result"
    }
   ],
   "source": [
    "#Taratamento do parametro DIAGNOSTICO\n",
    "agrupado = dataset.groupby(['Diagnóstico']).size()\n",
    "agrupado"
   ]
  },
  {
   "cell_type": "code",
   "execution_count": 73,
   "id": "59065a75-21d9-45e7-b012-a3323268d791",
   "metadata": {},
   "outputs": [
    {
     "data": {
      "text/plain": [
       "count         49\n",
       "unique         7\n",
       "top       Doente\n",
       "freq          23\n",
       "Name: Diagnóstico, dtype: object"
      ]
     },
     "execution_count": 73,
     "metadata": {},
     "output_type": "execute_result"
    }
   ],
   "source": [
    "dataset['Diagnóstico'].describe()"
   ]
  },
  {
   "cell_type": "code",
   "execution_count": 75,
   "id": "be72fdfd-faf0-4bb2-aba6-d31fb8032ec9",
   "metadata": {},
   "outputs": [
    {
     "data": {
      "text/plain": [
       "Diagnóstico\n",
       "Doente      27\n",
       "Saudável    22\n",
       "dtype: int64"
      ]
     },
     "execution_count": 75,
     "metadata": {},
     "output_type": "execute_result"
    }
   ],
   "source": [
    "#Eliminando valores errados D DD Dd S Ss\n",
    "dataset.loc[dataset['Diagnóstico'].isin( ['D','Dd','DD']), 'Diagnóstico'] = \"Doente\"\n",
    "dataset.loc[dataset['Diagnóstico'].isin( ['S','Ss']), 'Diagnóstico'] = \"Saudável\"\n",
    "#visualiza o resultado\n",
    "agrupado = dataset.groupby(['Diagnóstico']).size()\n",
    "agrupado"
   ]
  },
  {
   "cell_type": "code",
   "execution_count": 77,
   "id": "f0ec0633-73a8-4ffa-8ddb-ff1002d652b9",
   "metadata": {},
   "outputs": [
    {
     "data": {
      "text/plain": [
       "Unnamed: 0     0\n",
       "ID             0\n",
       "Idade          0\n",
       "Peso           0\n",
       "Sexo           0\n",
       "Manchas        0\n",
       "Temperatura    0\n",
       "Diagnóstico    0\n",
       "dtype: int64"
      ]
     },
     "execution_count": 77,
     "metadata": {},
     "output_type": "execute_result"
    }
   ],
   "source": [
    "#Substitindo valores ausentes pela moda\n",
    "dataset['Diagnóstico'].fillna('Doente', inplace=True)\n",
    "dataset.isnull().sum()"
   ]
  },
  {
   "cell_type": "code",
   "execution_count": 79,
   "id": "a75e8aac-e19d-4173-ab30-b4deeb83c8cc",
   "metadata": {},
   "outputs": [
    {
     "data": {
      "text/html": [
       "<div>\n",
       "<style scoped>\n",
       "    .dataframe tbody tr th:only-of-type {\n",
       "        vertical-align: middle;\n",
       "    }\n",
       "\n",
       "    .dataframe tbody tr th {\n",
       "        vertical-align: top;\n",
       "    }\n",
       "\n",
       "    .dataframe thead th {\n",
       "        text-align: right;\n",
       "    }\n",
       "</style>\n",
       "<table border=\"1\" class=\"dataframe\">\n",
       "  <thead>\n",
       "    <tr style=\"text-align: right;\">\n",
       "      <th></th>\n",
       "      <th>Unnamed: 0</th>\n",
       "      <th>ID</th>\n",
       "      <th>Idade</th>\n",
       "      <th>Peso</th>\n",
       "      <th>Sexo</th>\n",
       "      <th>Manchas</th>\n",
       "      <th>Temperatura</th>\n",
       "      <th>Diagnóstico</th>\n",
       "    </tr>\n",
       "  </thead>\n",
       "  <tbody>\n",
       "    <tr>\n",
       "      <th>0</th>\n",
       "      <td>0</td>\n",
       "      <td>0</td>\n",
       "      <td>62.0</td>\n",
       "      <td>115.0</td>\n",
       "      <td>Masculino</td>\n",
       "      <td>Concentradas</td>\n",
       "      <td>39.0</td>\n",
       "      <td>Doente</td>\n",
       "    </tr>\n",
       "    <tr>\n",
       "      <th>1</th>\n",
       "      <td>1</td>\n",
       "      <td>1</td>\n",
       "      <td>65.0</td>\n",
       "      <td>59.0</td>\n",
       "      <td>Masculino</td>\n",
       "      <td>Espalhadas</td>\n",
       "      <td>38.0</td>\n",
       "      <td>Saudável</td>\n",
       "    </tr>\n",
       "    <tr>\n",
       "      <th>2</th>\n",
       "      <td>3</td>\n",
       "      <td>2</td>\n",
       "      <td>45.0</td>\n",
       "      <td>107.0</td>\n",
       "      <td>Feminino</td>\n",
       "      <td>Espalhadas</td>\n",
       "      <td>39.0</td>\n",
       "      <td>Doente</td>\n",
       "    </tr>\n",
       "    <tr>\n",
       "      <th>3</th>\n",
       "      <td>4</td>\n",
       "      <td>3</td>\n",
       "      <td>45.0</td>\n",
       "      <td>82.0</td>\n",
       "      <td>Masculino</td>\n",
       "      <td>Espalhadas</td>\n",
       "      <td>40.0</td>\n",
       "      <td>Doente</td>\n",
       "    </tr>\n",
       "    <tr>\n",
       "      <th>5</th>\n",
       "      <td>5</td>\n",
       "      <td>4</td>\n",
       "      <td>21.0</td>\n",
       "      <td>91.5</td>\n",
       "      <td>Feminino</td>\n",
       "      <td>Espalhadas</td>\n",
       "      <td>39.0</td>\n",
       "      <td>Saudável</td>\n",
       "    </tr>\n",
       "  </tbody>\n",
       "</table>\n",
       "</div>"
      ],
      "text/plain": [
       "   Unnamed: 0  ID  Idade   Peso       Sexo       Manchas  Temperatura  \\\n",
       "0           0   0   62.0  115.0  Masculino  Concentradas         39.0   \n",
       "1           1   1   65.0   59.0  Masculino    Espalhadas         38.0   \n",
       "2           3   2   45.0  107.0   Feminino    Espalhadas         39.0   \n",
       "3           4   3   45.0   82.0  Masculino    Espalhadas         40.0   \n",
       "5           5   4   21.0   91.5   Feminino    Espalhadas         39.0   \n",
       "\n",
       "  Diagnóstico  \n",
       "0      Doente  \n",
       "1    Saudável  \n",
       "2      Doente  \n",
       "3      Doente  \n",
       "5    Saudável  "
      ]
     },
     "execution_count": 79,
     "metadata": {},
     "output_type": "execute_result"
    }
   ],
   "source": [
    "dataset.head()"
   ]
  },
  {
   "cell_type": "code",
   "execution_count": 81,
   "id": "26a896dc-f602-44f9-afc6-7dc92084c13a",
   "metadata": {},
   "outputs": [
    {
     "data": {
      "text/plain": [
       "(58, 8)"
      ]
     },
     "execution_count": 81,
     "metadata": {},
     "output_type": "execute_result"
    }
   ],
   "source": [
    "dataset.shape"
   ]
  },
  {
   "cell_type": "code",
   "execution_count": 83,
   "id": "d80ff0a5-6b9c-461d-b31d-cd63192e6e87",
   "metadata": {},
   "outputs": [],
   "source": [
    "dataset.to_csv('dados_pacientes_NOVO.csv')"
   ]
  },
  {
   "cell_type": "code",
   "execution_count": null,
   "id": "29e4ba59-b532-485f-be03-55858fef5dfa",
   "metadata": {},
   "outputs": [],
   "source": []
  },
  {
   "cell_type": "code",
   "execution_count": null,
   "id": "a11730ff-cd57-4dbf-bca1-9f90946dabba",
   "metadata": {},
   "outputs": [],
   "source": []
  }
 ],
 "metadata": {
  "kernelspec": {
   "display_name": "Python [conda env:base] *",
   "language": "python",
   "name": "conda-base-py"
  },
  "language_info": {
   "codemirror_mode": {
    "name": "ipython",
    "version": 3
   },
   "file_extension": ".py",
   "mimetype": "text/x-python",
   "name": "python",
   "nbconvert_exporter": "python",
   "pygments_lexer": "ipython3",
   "version": "3.11.5"
  },
  "widgets": {
   "application/vnd.jupyter.widget-state+json": {
    "state": {},
    "version_major": 2,
    "version_minor": 0
   }
  }
 },
 "nbformat": 4,
 "nbformat_minor": 5
}
