{
 "cells": [
  {
   "cell_type": "code",
   "execution_count": 181,
   "id": "d16ed9a9-5e6d-4ecf-8ffb-630667d0bd61",
   "metadata": {},
   "outputs": [],
   "source": [
    "#Jannayna Domingues - Exercicio para tratamento de dados - Loja"
   ]
  },
  {
   "cell_type": "code",
   "execution_count": 77,
   "id": "01a50b5d-01d7-4794-aa72-03b2879d4ee8",
   "metadata": {},
   "outputs": [],
   "source": [
    "import pandas as pd\n",
    "import seaborn as srn\n",
    "import statistics  as sts"
   ]
  },
  {
   "cell_type": "code",
   "execution_count": 79,
   "id": "88bc39c1-7f26-4b8e-a7fb-1e3ef5734e30",
   "metadata": {},
   "outputs": [
    {
     "data": {
      "text/html": [
       "<div>\n",
       "<style scoped>\n",
       "    .dataframe tbody tr th:only-of-type {\n",
       "        vertical-align: middle;\n",
       "    }\n",
       "\n",
       "    .dataframe tbody tr th {\n",
       "        vertical-align: top;\n",
       "    }\n",
       "\n",
       "    .dataframe thead th {\n",
       "        text-align: right;\n",
       "    }\n",
       "</style>\n",
       "<table border=\"1\" class=\"dataframe\">\n",
       "  <thead>\n",
       "    <tr style=\"text-align: right;\">\n",
       "      <th></th>\n",
       "      <th>Px</th>\n",
       "      <th>Qx</th>\n",
       "      <th>PP</th>\n",
       "      <th>CC</th>\n",
       "    </tr>\n",
       "  </thead>\n",
       "  <tbody>\n",
       "    <tr>\n",
       "      <th>0</th>\n",
       "      <td>Camiseta</td>\n",
       "      <td>10.0</td>\n",
       "      <td>29.99</td>\n",
       "      <td>Feminino</td>\n",
       "    </tr>\n",
       "    <tr>\n",
       "      <th>1</th>\n",
       "      <td>Calça</td>\n",
       "      <td>5.0</td>\n",
       "      <td>79.99</td>\n",
       "      <td>Masculino</td>\n",
       "    </tr>\n",
       "    <tr>\n",
       "      <th>2</th>\n",
       "      <td>Vestido</td>\n",
       "      <td>0.0</td>\n",
       "      <td>NaN</td>\n",
       "      <td>Feminino</td>\n",
       "    </tr>\n",
       "    <tr>\n",
       "      <th>3</th>\n",
       "      <td>Saia</td>\n",
       "      <td>12.0</td>\n",
       "      <td>39.99</td>\n",
       "      <td>Feminino</td>\n",
       "    </tr>\n",
       "    <tr>\n",
       "      <th>4</th>\n",
       "      <td>Casaco</td>\n",
       "      <td>3.0</td>\n",
       "      <td>119.99</td>\n",
       "      <td>M</td>\n",
       "    </tr>\n",
       "    <tr>\n",
       "      <th>5</th>\n",
       "      <td>Carro</td>\n",
       "      <td>8.0</td>\n",
       "      <td>34.99</td>\n",
       "      <td>Feminino</td>\n",
       "    </tr>\n",
       "    <tr>\n",
       "      <th>6</th>\n",
       "      <td>Short</td>\n",
       "      <td>6.0</td>\n",
       "      <td>NaN</td>\n",
       "      <td>Masculino</td>\n",
       "    </tr>\n",
       "    <tr>\n",
       "      <th>7</th>\n",
       "      <td>Terno</td>\n",
       "      <td>2.0</td>\n",
       "      <td>199.99</td>\n",
       "      <td>Masculino</td>\n",
       "    </tr>\n",
       "    <tr>\n",
       "      <th>8</th>\n",
       "      <td>Macacão</td>\n",
       "      <td>4.0</td>\n",
       "      <td>89.99</td>\n",
       "      <td>F</td>\n",
       "    </tr>\n",
       "    <tr>\n",
       "      <th>9</th>\n",
       "      <td>Jaqueta</td>\n",
       "      <td>9.0</td>\n",
       "      <td>149.99</td>\n",
       "      <td>Masculino</td>\n",
       "    </tr>\n",
       "    <tr>\n",
       "      <th>10</th>\n",
       "      <td>Camiseta</td>\n",
       "      <td>10.0</td>\n",
       "      <td>29.99</td>\n",
       "      <td>M</td>\n",
       "    </tr>\n",
       "    <tr>\n",
       "      <th>11</th>\n",
       "      <td>Calça</td>\n",
       "      <td>0.0</td>\n",
       "      <td>79.99</td>\n",
       "      <td>Feminino</td>\n",
       "    </tr>\n",
       "    <tr>\n",
       "      <th>12</th>\n",
       "      <td>Vestido</td>\n",
       "      <td>7.0</td>\n",
       "      <td>49.99</td>\n",
       "      <td>Feminino</td>\n",
       "    </tr>\n",
       "    <tr>\n",
       "      <th>13</th>\n",
       "      <td>Saia</td>\n",
       "      <td>NaN</td>\n",
       "      <td>39.99</td>\n",
       "      <td>Feminino</td>\n",
       "    </tr>\n",
       "    <tr>\n",
       "      <th>14</th>\n",
       "      <td>Televisão</td>\n",
       "      <td>3.0</td>\n",
       "      <td>119.99</td>\n",
       "      <td>Masculino</td>\n",
       "    </tr>\n",
       "    <tr>\n",
       "      <th>15</th>\n",
       "      <td>Blusa</td>\n",
       "      <td>8.0</td>\n",
       "      <td>34.99</td>\n",
       "      <td>F</td>\n",
       "    </tr>\n",
       "    <tr>\n",
       "      <th>16</th>\n",
       "      <td>Short</td>\n",
       "      <td>6.0</td>\n",
       "      <td>24.99</td>\n",
       "      <td>Masculino</td>\n",
       "    </tr>\n",
       "    <tr>\n",
       "      <th>17</th>\n",
       "      <td>Terno</td>\n",
       "      <td>0.0</td>\n",
       "      <td>199.99</td>\n",
       "      <td>Masculino</td>\n",
       "    </tr>\n",
       "    <tr>\n",
       "      <th>18</th>\n",
       "      <td>Macacão</td>\n",
       "      <td>4.0</td>\n",
       "      <td>89.99</td>\n",
       "      <td>Feminino</td>\n",
       "    </tr>\n",
       "    <tr>\n",
       "      <th>19</th>\n",
       "      <td>Jaqueta</td>\n",
       "      <td>9.0</td>\n",
       "      <td>NaN</td>\n",
       "      <td>Masculino</td>\n",
       "    </tr>\n",
       "  </tbody>\n",
       "</table>\n",
       "</div>"
      ],
      "text/plain": [
       "           Px    Qx      PP         CC\n",
       "0    Camiseta  10.0   29.99   Feminino\n",
       "1       Calça   5.0   79.99  Masculino\n",
       "2     Vestido   0.0     NaN   Feminino\n",
       "3        Saia  12.0   39.99   Feminino\n",
       "4      Casaco   3.0  119.99          M\n",
       "5       Carro   8.0   34.99   Feminino\n",
       "6       Short   6.0     NaN  Masculino\n",
       "7       Terno   2.0  199.99  Masculino\n",
       "8     Macacão   4.0   89.99          F\n",
       "9     Jaqueta   9.0  149.99  Masculino\n",
       "10   Camiseta  10.0   29.99          M\n",
       "11      Calça   0.0   79.99   Feminino\n",
       "12    Vestido   7.0   49.99   Feminino\n",
       "13       Saia   NaN   39.99   Feminino\n",
       "14  Televisão   3.0  119.99  Masculino\n",
       "15      Blusa   8.0   34.99          F\n",
       "16      Short   6.0   24.99  Masculino\n",
       "17      Terno   0.0  199.99  Masculino\n",
       "18    Macacão   4.0   89.99   Feminino\n",
       "19    Jaqueta   9.0     NaN  Masculino"
      ]
     },
     "execution_count": 79,
     "metadata": {},
     "output_type": "execute_result"
    }
   ],
   "source": [
    "#importar dados\n",
    "dataset = pd.read_csv(\"dados_loja_tratamento.csv\", sep =\",\")\n",
    "#visulizar\n",
    "dataset.head(20)"
   ]
  },
  {
   "cell_type": "code",
   "execution_count": 81,
   "id": "39be04e1-769a-4158-a481-3ddfc7d654b8",
   "metadata": {},
   "outputs": [
    {
     "data": {
      "text/plain": [
       "(50, 4)"
      ]
     },
     "execution_count": 81,
     "metadata": {},
     "output_type": "execute_result"
    }
   ],
   "source": [
    "#Tamanho da matriz\n",
    "dataset.shape\n"
   ]
  },
  {
   "cell_type": "code",
   "execution_count": 83,
   "id": "f6d8ba7b-0d63-4dac-8e71-c8b52248db97",
   "metadata": {},
   "outputs": [],
   "source": [
    "#Renomear as colunas\n",
    "dataset.columns = [\"Produto\", \"Quantidade\", \"Preço\", \"Categoria\"]"
   ]
  },
  {
   "cell_type": "code",
   "execution_count": 85,
   "id": "7cb78bc7-339c-43fb-bc99-79be97307b7e",
   "metadata": {},
   "outputs": [
    {
     "data": {
      "text/html": [
       "<div>\n",
       "<style scoped>\n",
       "    .dataframe tbody tr th:only-of-type {\n",
       "        vertical-align: middle;\n",
       "    }\n",
       "\n",
       "    .dataframe tbody tr th {\n",
       "        vertical-align: top;\n",
       "    }\n",
       "\n",
       "    .dataframe thead th {\n",
       "        text-align: right;\n",
       "    }\n",
       "</style>\n",
       "<table border=\"1\" class=\"dataframe\">\n",
       "  <thead>\n",
       "    <tr style=\"text-align: right;\">\n",
       "      <th></th>\n",
       "      <th>Produto</th>\n",
       "      <th>Quantidade</th>\n",
       "      <th>Preço</th>\n",
       "      <th>Categoria</th>\n",
       "    </tr>\n",
       "  </thead>\n",
       "  <tbody>\n",
       "    <tr>\n",
       "      <th>0</th>\n",
       "      <td>Camiseta</td>\n",
       "      <td>10.0</td>\n",
       "      <td>29.99</td>\n",
       "      <td>Feminino</td>\n",
       "    </tr>\n",
       "    <tr>\n",
       "      <th>1</th>\n",
       "      <td>Calça</td>\n",
       "      <td>5.0</td>\n",
       "      <td>79.99</td>\n",
       "      <td>Masculino</td>\n",
       "    </tr>\n",
       "    <tr>\n",
       "      <th>2</th>\n",
       "      <td>Vestido</td>\n",
       "      <td>0.0</td>\n",
       "      <td>NaN</td>\n",
       "      <td>Feminino</td>\n",
       "    </tr>\n",
       "    <tr>\n",
       "      <th>3</th>\n",
       "      <td>Saia</td>\n",
       "      <td>12.0</td>\n",
       "      <td>39.99</td>\n",
       "      <td>Feminino</td>\n",
       "    </tr>\n",
       "    <tr>\n",
       "      <th>4</th>\n",
       "      <td>Casaco</td>\n",
       "      <td>3.0</td>\n",
       "      <td>119.99</td>\n",
       "      <td>M</td>\n",
       "    </tr>\n",
       "  </tbody>\n",
       "</table>\n",
       "</div>"
      ],
      "text/plain": [
       "    Produto  Quantidade   Preço  Categoria\n",
       "0  Camiseta        10.0   29.99   Feminino\n",
       "1     Calça         5.0   79.99  Masculino\n",
       "2   Vestido         0.0     NaN   Feminino\n",
       "3      Saia        12.0   39.99   Feminino\n",
       "4    Casaco         3.0  119.99          M"
      ]
     },
     "execution_count": 85,
     "metadata": {},
     "output_type": "execute_result"
    }
   ],
   "source": [
    "dataset.head()"
   ]
  },
  {
   "cell_type": "code",
   "execution_count": 87,
   "id": "e296a183-6305-482e-b25c-73dd58372b42",
   "metadata": {},
   "outputs": [
    {
     "data": {
      "text/plain": [
       "Produto\n",
       "Blusa        4\n",
       "Calça        6\n",
       "Camiseta     5\n",
       "Carro        1\n",
       "Casaco       4\n",
       "Jaqueta      5\n",
       "Macacão      5\n",
       "Mesa         1\n",
       "Saia         4\n",
       "Short        5\n",
       "Televisão    1\n",
       "Terno        7\n",
       "Vestido      2\n",
       "dtype: int64"
      ]
     },
     "execution_count": 87,
     "metadata": {},
     "output_type": "execute_result"
    }
   ],
   "source": [
    "#Dados Categóricos\n",
    "agrupado = dataset.groupby(['Produto']).size()\n",
    "agrupado"
   ]
  },
  {
   "cell_type": "code",
   "execution_count": 89,
   "id": "e9de07d4-c04a-47f3-b174-3f7ccc1a1171",
   "metadata": {},
   "outputs": [
    {
     "data": {
      "text/plain": [
       "count        50\n",
       "unique       13\n",
       "top       Terno\n",
       "freq          7\n",
       "Name: Produto, dtype: object"
      ]
     },
     "execution_count": 89,
     "metadata": {},
     "output_type": "execute_result"
    }
   ],
   "source": [
    "dataset['Produto'].describe()"
   ]
  },
  {
   "cell_type": "code",
   "execution_count": 91,
   "id": "73cc1bbd-4cb2-4fdb-ab9a-fd78129194c9",
   "metadata": {},
   "outputs": [
    {
     "data": {
      "text/plain": [
       "Categoria\n",
       "F             4\n",
       "Feminino     21\n",
       "M             4\n",
       "Masculino    21\n",
       "dtype: int64"
      ]
     },
     "execution_count": 91,
     "metadata": {},
     "output_type": "execute_result"
    }
   ],
   "source": [
    "agrupado = dataset.groupby(['Categoria']).size()\n",
    "agrupado"
   ]
  },
  {
   "cell_type": "code",
   "execution_count": 93,
   "id": "6f08b19d-a729-4a09-9fc4-d55977d6d928",
   "metadata": {},
   "outputs": [
    {
     "data": {
      "text/plain": [
       "count           50\n",
       "unique           4\n",
       "top       Feminino\n",
       "freq            21\n",
       "Name: Categoria, dtype: object"
      ]
     },
     "execution_count": 93,
     "metadata": {},
     "output_type": "execute_result"
    }
   ],
   "source": [
    "dataset['Categoria'].describe()"
   ]
  },
  {
   "cell_type": "code",
   "execution_count": 95,
   "id": "5aef89b2-b264-42cd-a3ac-998c2efdc82e",
   "metadata": {},
   "outputs": [
    {
     "data": {
      "text/plain": [
       "count    48.000000\n",
       "mean      6.020833\n",
       "std       3.342121\n",
       "min       0.000000\n",
       "25%       3.750000\n",
       "50%       6.000000\n",
       "75%       9.000000\n",
       "max      12.000000\n",
       "Name: Quantidade, dtype: float64"
      ]
     },
     "execution_count": 95,
     "metadata": {},
     "output_type": "execute_result"
    }
   ],
   "source": [
    "#Analise dos dados numericos\n",
    "dataset['Quantidade'].describe()"
   ]
  },
  {
   "cell_type": "code",
   "execution_count": 97,
   "id": "19c14e42-922f-4f06-9efe-be4891ee36de",
   "metadata": {},
   "outputs": [
    {
     "data": {
      "text/plain": [
       "Text(0.5, 1.0, 'Quantidade de itens')"
      ]
     },
     "execution_count": 97,
     "metadata": {},
     "output_type": "execute_result"
    },
    {
     "data": {
      "image/png": "[encoded data removed]",
      "text/plain": [
       "<Figure size 640x480 with 1 Axes>"
      ]
     },
     "metadata": {},
     "output_type": "display_data"
    }
   ],
   "source": [
    "#Histograma do atributo numérico \"Quantidade\"\n",
    "srn.boxplot(dataset['Quantidade']).set_title('Quantidade de itens')\n",
    "#srn.histplot(dataset['Quantidade']).set_title('Quantidade de itens')\n",
    "#srn.distplot(dataset['Quantidade']).set_title('Quantidade de itens')"
   ]
  },
  {
   "cell_type": "code",
   "execution_count": 101,
   "id": "5c59bf50-d9dd-47c5-8272-047915325f05",
   "metadata": {},
   "outputs": [
    {
     "data": {
      "text/plain": [
       "Quantidade\n",
       "0.0     4\n",
       "2.0     4\n",
       "3.0     4\n",
       "4.0     5\n",
       "5.0     4\n",
       "6.0     5\n",
       "7.0     4\n",
       "8.0     5\n",
       "9.0     5\n",
       "10.0    5\n",
       "12.0    3\n",
       "dtype: int64"
      ]
     },
     "execution_count": 101,
     "metadata": {},
     "output_type": "execute_result"
    }
   ],
   "source": [
    "#Dados Numéricos\n",
    "agrupado = dataset.groupby(['Quantidade']).size()\n",
    "agrupado"
   ]
  },
  {
   "cell_type": "code",
   "execution_count": 103,
   "id": "263e361b-df62-479b-8054-02a328f518ad",
   "metadata": {},
   "outputs": [
    {
     "data": {
      "text/plain": [
       "count     45.000000\n",
       "mean      84.434444\n",
       "std       56.731247\n",
       "min       24.990000\n",
       "25%       34.990000\n",
       "50%       79.990000\n",
       "75%      119.990000\n",
       "max      199.990000\n",
       "Name: Preço, dtype: float64"
      ]
     },
     "execution_count": 103,
     "metadata": {},
     "output_type": "execute_result"
    }
   ],
   "source": [
    "#Análise dados numericos\n",
    "dataset['Preço'].describe()"
   ]
  },
  {
   "cell_type": "code",
   "execution_count": 105,
   "id": "c4430422-ec5c-44e1-bd3b-757fa61713be",
   "metadata": {},
   "outputs": [
    {
     "data": {
      "text/plain": [
       "Text(0.5, 1.0, 'Preço')"
      ]
     },
     "execution_count": 105,
     "metadata": {},
     "output_type": "execute_result"
    },
    {
     "data": {
      "image/png": "[encoded data removed]",
      "text/plain": [
       "<Figure size 640x480 with 1 Axes>"
      ]
     },
     "metadata": {},
     "output_type": "display_data"
    }
   ],
   "source": [
    "#srn.distplot(dataset['Preço']).set_title('Preço')\n",
    "srn.boxplot(dataset['Preço']).set_title('Preço')"
   ]
  },
  {
   "cell_type": "code",
   "execution_count": 107,
   "id": "6f964e9c-8ae0-4ee2-b02f-8dfb0bac2b6f",
   "metadata": {},
   "outputs": [
    {
     "data": {
      "text/plain": [
       "Preço\n",
       "24.99     3\n",
       "29.99     5\n",
       "34.99     5\n",
       "39.99     5\n",
       "49.99     3\n",
       "79.99     5\n",
       "89.99     5\n",
       "119.99    5\n",
       "149.99    4\n",
       "199.99    5\n",
       "dtype: int64"
      ]
     },
     "execution_count": 107,
     "metadata": {},
     "output_type": "execute_result"
    }
   ],
   "source": [
    "agrupado = dataset.groupby(['Preço']).size()\n",
    "agrupado"
   ]
  },
  {
   "cell_type": "code",
   "execution_count": 109,
   "id": "14e04afc-b193-48b4-a1d0-5cb6febd8ea5",
   "metadata": {},
   "outputs": [
    {
     "data": {
      "text/plain": [
       "Produto       0\n",
       "Quantidade    2\n",
       "Preço         5\n",
       "Categoria     0\n",
       "dtype: int64"
      ]
     },
     "execution_count": 109,
     "metadata": {},
     "output_type": "execute_result"
    }
   ],
   "source": [
    "#Inicio do tratamento dos dados\n",
    "#Verificar os atributos com valores ausentes NaN\n",
    "dataset.isnull().sum()"
   ]
  },
  {
   "cell_type": "code",
   "execution_count": 113,
   "id": "305beba7-79db-412f-8c27-49cab3211cbd",
   "metadata": {},
   "outputs": [
    {
     "data": {
      "text/plain": [
       "84.99"
      ]
     },
     "execution_count": 113,
     "metadata": {},
     "output_type": "execute_result"
    }
   ],
   "source": [
    "#Calcular a mediana do atributo Preço e substituir o valor ausente pela mediana\n",
    "mediana = sts.median(dataset['Preço'])\n",
    "mediana"
   ]
  },
  {
   "cell_type": "code",
   "execution_count": 117,
   "id": "bc07ff2f-73d4-4a0e-b466-5ea7a84e6b39",
   "metadata": {},
   "outputs": [],
   "source": [
    "#preenche o valor ausente com a Mediana\n",
    "dataset['Preço'].fillna(mediana, inplace=True)"
   ]
  },
  {
   "cell_type": "code",
   "execution_count": 119,
   "id": "29bcb2f9-cbee-4206-8315-a6e434ea54f5",
   "metadata": {},
   "outputs": [
    {
     "data": {
      "text/plain": [
       "6.0"
      ]
     },
     "execution_count": 119,
     "metadata": {},
     "output_type": "execute_result"
    }
   ],
   "source": [
    "#Calcular a mediana do atributo Quantidade e substituir o valor ausente pela mediana\n",
    "mediana = sts.median(dataset['Quantidade'])\n",
    "mediana"
   ]
  },
  {
   "cell_type": "code",
   "execution_count": 121,
   "id": "dc1ae87d-f497-4cf9-b3a1-97d618055be2",
   "metadata": {},
   "outputs": [],
   "source": [
    "#preenche o valor ausente do atributo Quantidade com a Mediana\n",
    "dataset['Quantidade'].fillna(mediana, inplace=True)"
   ]
  },
  {
   "cell_type": "code",
   "execution_count": 123,
   "id": "585e3655-9113-454e-8753-d194ec8309dd",
   "metadata": {},
   "outputs": [
    {
     "data": {
      "text/plain": [
       "Produto       0\n",
       "Quantidade    0\n",
       "Preço         0\n",
       "Categoria     0\n",
       "dtype: int64"
      ]
     },
     "execution_count": 123,
     "metadata": {},
     "output_type": "execute_result"
    }
   ],
   "source": [
    "#Verificar se tem algum atributo com o valor ausente\n",
    "dataset.isnull().sum()"
   ]
  },
  {
   "cell_type": "code",
   "execution_count": 131,
   "id": "6b2c040f-41ad-4d87-baf0-90daa05f88b2",
   "metadata": {},
   "outputs": [
    {
     "data": {
      "text/html": [
       "<div>\n",
       "<style scoped>\n",
       "    .dataframe tbody tr th:only-of-type {\n",
       "        vertical-align: middle;\n",
       "    }\n",
       "\n",
       "    .dataframe tbody tr th {\n",
       "        vertical-align: top;\n",
       "    }\n",
       "\n",
       "    .dataframe thead th {\n",
       "        text-align: right;\n",
       "    }\n",
       "</style>\n",
       "<table border=\"1\" class=\"dataframe\">\n",
       "  <thead>\n",
       "    <tr style=\"text-align: right;\">\n",
       "      <th></th>\n",
       "      <th>Produto</th>\n",
       "      <th>Quantidade</th>\n",
       "      <th>Preço</th>\n",
       "      <th>Categoria</th>\n",
       "    </tr>\n",
       "  </thead>\n",
       "  <tbody>\n",
       "    <tr>\n",
       "      <th>0</th>\n",
       "      <td>Camiseta</td>\n",
       "      <td>10.0</td>\n",
       "      <td>29.99</td>\n",
       "      <td>Feminino</td>\n",
       "    </tr>\n",
       "    <tr>\n",
       "      <th>1</th>\n",
       "      <td>Calça</td>\n",
       "      <td>5.0</td>\n",
       "      <td>79.99</td>\n",
       "      <td>Masculino</td>\n",
       "    </tr>\n",
       "    <tr>\n",
       "      <th>2</th>\n",
       "      <td>Vestido</td>\n",
       "      <td>0.0</td>\n",
       "      <td>84.99</td>\n",
       "      <td>Feminino</td>\n",
       "    </tr>\n",
       "    <tr>\n",
       "      <th>3</th>\n",
       "      <td>Saia</td>\n",
       "      <td>12.0</td>\n",
       "      <td>39.99</td>\n",
       "      <td>Feminino</td>\n",
       "    </tr>\n",
       "    <tr>\n",
       "      <th>4</th>\n",
       "      <td>Casaco</td>\n",
       "      <td>3.0</td>\n",
       "      <td>119.99</td>\n",
       "      <td>M</td>\n",
       "    </tr>\n",
       "  </tbody>\n",
       "</table>\n",
       "</div>"
      ],
      "text/plain": [
       "    Produto  Quantidade   Preço  Categoria\n",
       "0  Camiseta        10.0   29.99   Feminino\n",
       "1     Calça         5.0   79.99  Masculino\n",
       "2   Vestido         0.0   84.99   Feminino\n",
       "3      Saia        12.0   39.99   Feminino\n",
       "4    Casaco         3.0  119.99          M"
      ]
     },
     "execution_count": 131,
     "metadata": {},
     "output_type": "execute_result"
    }
   ],
   "source": [
    "dataset.head()"
   ]
  },
  {
   "cell_type": "code",
   "execution_count": 137,
   "id": "21fcae3b-0c5c-4d98-9905-7ddc73a97768",
   "metadata": {},
   "outputs": [
    {
     "data": {
      "text/plain": [
       "Produto\n",
       "Blusa        4\n",
       "Calça        6\n",
       "Camiseta     5\n",
       "Casaco       4\n",
       "Jaqueta      5\n",
       "Macacão      5\n",
       "Saia         4\n",
       "Short        5\n",
       "Terno       10\n",
       "Vestido      2\n",
       "dtype: int64"
      ]
     },
     "execution_count": 137,
     "metadata": {},
     "output_type": "execute_result"
    }
   ],
   "source": [
    "#Tratamento do dados categorico Produtos - retirar carro, mesa, televisão\n",
    "dataset.loc[dataset['Produto'].isin( ['Carro','Mesa','Televisão']), 'Produto'] = \"Terno\"\n",
    "#visualiza o resultado\n",
    "agrupado = dataset.groupby(['Produto']).size()\n",
    "agrupado"
   ]
  },
  {
   "cell_type": "code",
   "execution_count": 139,
   "id": "7712ccee-7039-4638-9427-34fa6786e67f",
   "metadata": {},
   "outputs": [
    {
     "data": {
      "text/plain": [
       "Categoria\n",
       "Feminino     25\n",
       "Masculino    25\n",
       "dtype: int64"
      ]
     },
     "execution_count": 139,
     "metadata": {},
     "output_type": "execute_result"
    }
   ],
   "source": [
    "#Organizar o atributo Categoria em Masculino e Feminino\n",
    "dataset.loc[dataset['Categoria'].isin( ['M']), 'Categoria'] = \"Masculino\"\n",
    "dataset.loc[dataset['Categoria'].isin( ['F']), 'Categoria'] = \"Feminino\"\n",
    "#verificar resultado\n",
    "agrupado = dataset.groupby(['Categoria']).size()\n",
    "agrupado"
   ]
  },
  {
   "cell_type": "code",
   "execution_count": 143,
   "id": "49fee19b-211b-4aa8-ad63-4d55ed997470",
   "metadata": {},
   "outputs": [
    {
     "data": {
      "text/html": [
       "<div>\n",
       "<style scoped>\n",
       "    .dataframe tbody tr th:only-of-type {\n",
       "        vertical-align: middle;\n",
       "    }\n",
       "\n",
       "    .dataframe tbody tr th {\n",
       "        vertical-align: top;\n",
       "    }\n",
       "\n",
       "    .dataframe thead th {\n",
       "        text-align: right;\n",
       "    }\n",
       "</style>\n",
       "<table border=\"1\" class=\"dataframe\">\n",
       "  <thead>\n",
       "    <tr style=\"text-align: right;\">\n",
       "      <th></th>\n",
       "      <th>Produto</th>\n",
       "      <th>Quantidade</th>\n",
       "      <th>Preço</th>\n",
       "      <th>Categoria</th>\n",
       "    </tr>\n",
       "  </thead>\n",
       "  <tbody>\n",
       "    <tr>\n",
       "      <th>0</th>\n",
       "      <td>Camiseta</td>\n",
       "      <td>10.0</td>\n",
       "      <td>29.99</td>\n",
       "      <td>Feminino</td>\n",
       "    </tr>\n",
       "    <tr>\n",
       "      <th>1</th>\n",
       "      <td>Calça</td>\n",
       "      <td>5.0</td>\n",
       "      <td>79.99</td>\n",
       "      <td>Masculino</td>\n",
       "    </tr>\n",
       "    <tr>\n",
       "      <th>2</th>\n",
       "      <td>Vestido</td>\n",
       "      <td>0.0</td>\n",
       "      <td>84.99</td>\n",
       "      <td>Feminino</td>\n",
       "    </tr>\n",
       "    <tr>\n",
       "      <th>3</th>\n",
       "      <td>Saia</td>\n",
       "      <td>12.0</td>\n",
       "      <td>39.99</td>\n",
       "      <td>Feminino</td>\n",
       "    </tr>\n",
       "    <tr>\n",
       "      <th>4</th>\n",
       "      <td>Casaco</td>\n",
       "      <td>3.0</td>\n",
       "      <td>119.99</td>\n",
       "      <td>Masculino</td>\n",
       "    </tr>\n",
       "    <tr>\n",
       "      <th>5</th>\n",
       "      <td>Terno</td>\n",
       "      <td>8.0</td>\n",
       "      <td>34.99</td>\n",
       "      <td>Feminino</td>\n",
       "    </tr>\n",
       "    <tr>\n",
       "      <th>6</th>\n",
       "      <td>Short</td>\n",
       "      <td>6.0</td>\n",
       "      <td>84.99</td>\n",
       "      <td>Masculino</td>\n",
       "    </tr>\n",
       "    <tr>\n",
       "      <th>7</th>\n",
       "      <td>Terno</td>\n",
       "      <td>2.0</td>\n",
       "      <td>199.99</td>\n",
       "      <td>Masculino</td>\n",
       "    </tr>\n",
       "    <tr>\n",
       "      <th>8</th>\n",
       "      <td>Macacão</td>\n",
       "      <td>4.0</td>\n",
       "      <td>89.99</td>\n",
       "      <td>Feminino</td>\n",
       "    </tr>\n",
       "    <tr>\n",
       "      <th>9</th>\n",
       "      <td>Jaqueta</td>\n",
       "      <td>9.0</td>\n",
       "      <td>149.99</td>\n",
       "      <td>Masculino</td>\n",
       "    </tr>\n",
       "    <tr>\n",
       "      <th>10</th>\n",
       "      <td>Camiseta</td>\n",
       "      <td>10.0</td>\n",
       "      <td>29.99</td>\n",
       "      <td>Masculino</td>\n",
       "    </tr>\n",
       "    <tr>\n",
       "      <th>11</th>\n",
       "      <td>Calça</td>\n",
       "      <td>0.0</td>\n",
       "      <td>79.99</td>\n",
       "      <td>Feminino</td>\n",
       "    </tr>\n",
       "    <tr>\n",
       "      <th>12</th>\n",
       "      <td>Vestido</td>\n",
       "      <td>7.0</td>\n",
       "      <td>49.99</td>\n",
       "      <td>Feminino</td>\n",
       "    </tr>\n",
       "    <tr>\n",
       "      <th>13</th>\n",
       "      <td>Saia</td>\n",
       "      <td>6.0</td>\n",
       "      <td>39.99</td>\n",
       "      <td>Feminino</td>\n",
       "    </tr>\n",
       "    <tr>\n",
       "      <th>14</th>\n",
       "      <td>Terno</td>\n",
       "      <td>3.0</td>\n",
       "      <td>119.99</td>\n",
       "      <td>Masculino</td>\n",
       "    </tr>\n",
       "  </tbody>\n",
       "</table>\n",
       "</div>"
      ],
      "text/plain": [
       "     Produto  Quantidade   Preço  Categoria\n",
       "0   Camiseta        10.0   29.99   Feminino\n",
       "1      Calça         5.0   79.99  Masculino\n",
       "2    Vestido         0.0   84.99   Feminino\n",
       "3       Saia        12.0   39.99   Feminino\n",
       "4     Casaco         3.0  119.99  Masculino\n",
       "5      Terno         8.0   34.99   Feminino\n",
       "6      Short         6.0   84.99  Masculino\n",
       "7      Terno         2.0  199.99  Masculino\n",
       "8    Macacão         4.0   89.99   Feminino\n",
       "9    Jaqueta         9.0  149.99  Masculino\n",
       "10  Camiseta        10.0   29.99  Masculino\n",
       "11     Calça         0.0   79.99   Feminino\n",
       "12   Vestido         7.0   49.99   Feminino\n",
       "13      Saia         6.0   39.99   Feminino\n",
       "14     Terno         3.0  119.99  Masculino"
      ]
     },
     "execution_count": 143,
     "metadata": {},
     "output_type": "execute_result"
    }
   ],
   "source": [
    "dataset.head(15)"
   ]
  },
  {
   "cell_type": "code",
   "execution_count": 147,
   "id": "03839938-985b-4e5f-8af9-93bfab4a1ff5",
   "metadata": {},
   "outputs": [
    {
     "data": {
      "text/plain": [
       "(50, 4)"
      ]
     },
     "execution_count": 147,
     "metadata": {},
     "output_type": "execute_result"
    }
   ],
   "source": [
    "dataset.shape"
   ]
  },
  {
   "cell_type": "code",
   "execution_count": 149,
   "id": "558dc360-279c-45ef-a4f0-070609689b38",
   "metadata": {},
   "outputs": [],
   "source": [
    "dataset.to_csv('dados_loja_NOVO.csv')"
   ]
  },
  {
   "cell_type": "code",
   "execution_count": null,
   "id": "38ab49b5-eaca-4a96-8edd-46449849cbf9",
   "metadata": {},
   "outputs": [],
   "source": []
  }
 ],
 "metadata": {
  "kernelspec": {
   "display_name": "Python [conda env:base] *",
   "language": "python",
   "name": "conda-base-py"
  },
  "language_info": {
   "codemirror_mode": {
    "name": "ipython",
    "version": 3
   },
   "file_extension": ".py",
   "mimetype": "text/x-python",
   "name": "python",
   "nbconvert_exporter": "python",
   "pygments_lexer": "ipython3",
   "version": "3.11.5"
  },
  "widgets": {
   "application/vnd.jupyter.widget-state+json": {
    "state": {},
    "version_major": 2,
    "version_minor": 0
   }
  }
 },
 "nbformat": 4,
 "nbformat_minor": 5
}
